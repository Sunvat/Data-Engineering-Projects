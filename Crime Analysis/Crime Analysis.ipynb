{
 "cells": [
  {
   "cell_type": "code",
   "execution_count": 62,
   "id": "2d273834",
   "metadata": {},
   "outputs": [],
   "source": [
    "import pandas as pd\n",
    "import seaborn as sb\n",
    "import matplotlib.pyplot as plt\n"
   ]
  },
  {
   "cell_type": "code",
   "execution_count": 46,
   "id": "2768abd4",
   "metadata": {
    "scrolled": false
   },
   "outputs": [
    {
     "data": {
      "text/plain": [
       "<bound method NDFrame.head of           Datetime              District_Area  X_Coordinate  Y_Coordinate  \\\n",
       "0       2018-01-01             Mount Pleasant   492617.2223   5455988.965   \n",
       "1       2018-01-01                  Kitsilano   488162.7192   5457693.429   \n",
       "2       2018-01-01                  Killarney   497063.7379   5450354.627   \n",
       "3       2018-01-01  Central Business District   490768.8928   5458511.972   \n",
       "4       2018-01-01  Central Business District   492634.5444   5458638.968   \n",
       "...            ...                        ...           ...           ...   \n",
       "255569  2024-09-05  Central Business District   490714.4899   5458386.259   \n",
       "255570  2024-09-05  Central Business District   490714.4899   5458386.259   \n",
       "255571  2024-09-06                 Kerrisdale        0.0000         0.000   \n",
       "255572  2024-09-06                 Kerrisdale        0.0000         0.000   \n",
       "255573  2024-09-06  Central Business District   492073.2120   5458730.258   \n",
       "\n",
       "                        Crime_Type  \n",
       "0                 Theft of Bicycle  \n",
       "1                 Theft of Bicycle  \n",
       "2                 Theft of Bicycle  \n",
       "3       Break and Enter Commercial  \n",
       "4       Break and Enter Commercial  \n",
       "...                            ...  \n",
       "255569                    Mischief  \n",
       "255570                 Other Theft  \n",
       "255571    Offence Against a Person  \n",
       "255572    Offence Against a Person  \n",
       "255573                    Mischief  \n",
       "\n",
       "[255574 rows x 5 columns]>"
      ]
     },
     "execution_count": 46,
     "metadata": {},
     "output_type": "execute_result"
    }
   ],
   "source": [
    "#reading data \n",
    "crime_data = pd.read_csv('D_Crime.csv')\n",
    "crime_data.head"
   ]
  },
  {
   "cell_type": "code",
   "execution_count": 47,
   "id": "d642c83b",
   "metadata": {},
   "outputs": [
    {
     "name": "stdout",
     "output_type": "stream",
     "text": [
      "<class 'pandas.core.frame.DataFrame'>\n"
     ]
    }
   ],
   "source": [
    "print(type(crime_data))"
   ]
  },
  {
   "cell_type": "code",
   "execution_count": 48,
   "id": "5ddb2d0c",
   "metadata": {
    "scrolled": false
   },
   "outputs": [
    {
     "name": "stdout",
     "output_type": "stream",
     "text": [
      "Datetime                       2018-01-01\n",
      "District_Area                    West End\n",
      "X_Coordinate                          0.0\n",
      "Y_Coordinate                          0.0\n",
      "Crime_Type       Offence Against a Person\n",
      "Name: 9, dtype: object\n"
     ]
    }
   ],
   "source": [
    "rowvalue = crime_data[crime_data['Crime_Type'] == 'Offence Against a Person'].iloc[0]\n",
    "print(row_value)"
   ]
  },
  {
   "cell_type": "code",
   "execution_count": 54,
   "id": "30e99187",
   "metadata": {},
   "outputs": [],
   "source": [
    "# crime across the years:\n",
    "# seperate the year from the date\n",
    "#1. convert to dataframe date time\n",
    "crime_data['Datetime'] = pd.to_datetime(crime_data['Datetime'])\n",
    "#2. get year from the date\n",
    "crime_data['Year'] = crime_data['Datetime'].dt.year\n",
    "\n"
   ]
  },
  {
   "cell_type": "code",
   "execution_count": 58,
   "id": "32e4cfc9",
   "metadata": {},
   "outputs": [
    {
     "data": {
      "text/plain": [
       "Year\n",
       "2018    44235\n",
       "2019    48149\n",
       "2020    37520\n",
       "2021    32211\n",
       "2022    34315\n",
       "2023    36695\n",
       "2024    22449\n",
       "dtype: int64"
      ]
     },
     "execution_count": 58,
     "metadata": {},
     "output_type": "execute_result"
    }
   ],
   "source": [
    "#3.count number of crimes per year\n",
    "crime_per_year = crime_data.groupby('Year').size()\n",
    "crime_per_year\n"
   ]
  },
  {
   "cell_type": "code",
   "execution_count": 75,
   "id": "bae3ee48",
   "metadata": {},
   "outputs": [
    {
     "data": {
      "image/png": "[encoded data removed]",
      "text/plain": [
       "<Figure size 432x288 with 1 Axes>"
      ]
     },
     "metadata": {
      "needs_background": "light"
     },
     "output_type": "display_data"
    }
   ],
   "source": [
    "#ploting\n",
    "plt.plot(crime_per_year.index, crime_per_year.values)\n",
    "plt.xlabel('Years')\n",
    "plt.ylabel('Number of Crimes')\n",
    "plt.title(\"Crime Across the Years (2018-2024) in Vancouver\")\n"
   ]
  },
  {
   "cell_type": "code",
   "execution_count": 81,
   "id": "491773fc",
   "metadata": {},
   "outputs": [
    {
     "ename": "AttributeError",
     "evalue": "Can only use .dt accessor with datetimelike values",
     "output_type": "error",
     "traceback": [
      "\u001b[1;31m---------------------------------------------------------------------------\u001b[0m",
      "\u001b[1;31mAttributeError\u001b[0m                            Traceback (most recent call last)",
      "Input \u001b[1;32mIn [81]\u001b[0m, in \u001b[0;36m<cell line: 3>\u001b[1;34m()\u001b[0m\n\u001b[0;32m      1\u001b[0m \u001b[38;5;66;03m#various crimes accross the years\u001b[39;00m\n\u001b[0;32m      2\u001b[0m \u001b[38;5;66;03m#1. add just year to the data frame\u001b[39;00m\n\u001b[1;32m----> 3\u001b[0m crime_data[\u001b[38;5;124m'\u001b[39m\u001b[38;5;124mDatetime\u001b[39m\u001b[38;5;124m'\u001b[39m] \u001b[38;5;241m=\u001b[39m \u001b[43mcrime_data\u001b[49m\u001b[43m[\u001b[49m\u001b[38;5;124;43m'\u001b[39;49m\u001b[38;5;124;43mDatetime\u001b[39;49m\u001b[38;5;124;43m'\u001b[39;49m\u001b[43m]\u001b[49m\u001b[38;5;241;43m.\u001b[39;49m\u001b[43mdt\u001b[49m\u001b[38;5;241m.\u001b[39myear\n",
      "File \u001b[1;32mc:\\users\\sunva\\miniconda3\\lib\\site-packages\\pandas\\core\\generic.py:5487\u001b[0m, in \u001b[0;36mNDFrame.__getattr__\u001b[1;34m(self, name)\u001b[0m\n\u001b[0;32m   5480\u001b[0m \u001b[38;5;28;01mif\u001b[39;00m (\n\u001b[0;32m   5481\u001b[0m     name \u001b[38;5;129;01mnot\u001b[39;00m \u001b[38;5;129;01min\u001b[39;00m \u001b[38;5;28mself\u001b[39m\u001b[38;5;241m.\u001b[39m_internal_names_set\n\u001b[0;32m   5482\u001b[0m     \u001b[38;5;129;01mand\u001b[39;00m name \u001b[38;5;129;01mnot\u001b[39;00m \u001b[38;5;129;01min\u001b[39;00m \u001b[38;5;28mself\u001b[39m\u001b[38;5;241m.\u001b[39m_metadata\n\u001b[0;32m   5483\u001b[0m     \u001b[38;5;129;01mand\u001b[39;00m name \u001b[38;5;129;01mnot\u001b[39;00m \u001b[38;5;129;01min\u001b[39;00m \u001b[38;5;28mself\u001b[39m\u001b[38;5;241m.\u001b[39m_accessors\n\u001b[0;32m   5484\u001b[0m     \u001b[38;5;129;01mand\u001b[39;00m \u001b[38;5;28mself\u001b[39m\u001b[38;5;241m.\u001b[39m_info_axis\u001b[38;5;241m.\u001b[39m_can_hold_identifiers_and_holds_name(name)\n\u001b[0;32m   5485\u001b[0m ):\n\u001b[0;32m   5486\u001b[0m     \u001b[38;5;28;01mreturn\u001b[39;00m \u001b[38;5;28mself\u001b[39m[name]\n\u001b[1;32m-> 5487\u001b[0m \u001b[38;5;28;01mreturn\u001b[39;00m \u001b[38;5;28;43mobject\u001b[39;49m\u001b[38;5;241;43m.\u001b[39;49m\u001b[38;5;21;43m__getattribute__\u001b[39;49m\u001b[43m(\u001b[49m\u001b[38;5;28;43mself\u001b[39;49m\u001b[43m,\u001b[49m\u001b[43m \u001b[49m\u001b[43mname\u001b[49m\u001b[43m)\u001b[49m\n",
      "File \u001b[1;32mc:\\users\\sunva\\miniconda3\\lib\\site-packages\\pandas\\core\\accessor.py:181\u001b[0m, in \u001b[0;36mCachedAccessor.__get__\u001b[1;34m(self, obj, cls)\u001b[0m\n\u001b[0;32m    178\u001b[0m \u001b[38;5;28;01mif\u001b[39;00m obj \u001b[38;5;129;01mis\u001b[39;00m \u001b[38;5;28;01mNone\u001b[39;00m:\n\u001b[0;32m    179\u001b[0m     \u001b[38;5;66;03m# we're accessing the attribute of the class, i.e., Dataset.geo\u001b[39;00m\n\u001b[0;32m    180\u001b[0m     \u001b[38;5;28;01mreturn\u001b[39;00m \u001b[38;5;28mself\u001b[39m\u001b[38;5;241m.\u001b[39m_accessor\n\u001b[1;32m--> 181\u001b[0m accessor_obj \u001b[38;5;241m=\u001b[39m \u001b[38;5;28;43mself\u001b[39;49m\u001b[38;5;241;43m.\u001b[39;49m\u001b[43m_accessor\u001b[49m\u001b[43m(\u001b[49m\u001b[43mobj\u001b[49m\u001b[43m)\u001b[49m\n\u001b[0;32m    182\u001b[0m \u001b[38;5;66;03m# Replace the property with the accessor object. Inspired by:\u001b[39;00m\n\u001b[0;32m    183\u001b[0m \u001b[38;5;66;03m# https://www.pydanny.com/cached-property.html\u001b[39;00m\n\u001b[0;32m    184\u001b[0m \u001b[38;5;66;03m# We need to use object.__setattr__ because we overwrite __setattr__ on\u001b[39;00m\n\u001b[0;32m    185\u001b[0m \u001b[38;5;66;03m# NDFrame\u001b[39;00m\n\u001b[0;32m    186\u001b[0m \u001b[38;5;28mobject\u001b[39m\u001b[38;5;241m.\u001b[39m\u001b[38;5;21m__setattr__\u001b[39m(obj, \u001b[38;5;28mself\u001b[39m\u001b[38;5;241m.\u001b[39m_name, accessor_obj)\n",
      "File \u001b[1;32mc:\\users\\sunva\\miniconda3\\lib\\site-packages\\pandas\\core\\indexes\\accessors.py:506\u001b[0m, in \u001b[0;36mCombinedDatetimelikeProperties.__new__\u001b[1;34m(cls, data)\u001b[0m\n\u001b[0;32m    503\u001b[0m \u001b[38;5;28;01melif\u001b[39;00m is_period_dtype(data\u001b[38;5;241m.\u001b[39mdtype):\n\u001b[0;32m    504\u001b[0m     \u001b[38;5;28;01mreturn\u001b[39;00m PeriodProperties(data, orig)\n\u001b[1;32m--> 506\u001b[0m \u001b[38;5;28;01mraise\u001b[39;00m \u001b[38;5;167;01mAttributeError\u001b[39;00m(\u001b[38;5;124m\"\u001b[39m\u001b[38;5;124mCan only use .dt accessor with datetimelike values\u001b[39m\u001b[38;5;124m\"\u001b[39m)\n",
      "\u001b[1;31mAttributeError\u001b[0m: Can only use .dt accessor with datetimelike values"
     ]
    }
   ],
   "source": [
    "#various crimes accross the years\n",
    "#1. add just year to the data frame\n",
    "crime_data['Datetime'] = crime_data['Datetime'].dt.year"
   ]
  },
  {
   "cell_type": "code",
   "execution_count": 82,
   "id": "c19f9983",
   "metadata": {},
   "outputs": [
    {
     "data": {
      "text/html": [
       "<div>\n",
       "<style scoped>\n",
       "    .dataframe tbody tr th:only-of-type {\n",
       "        vertical-align: middle;\n",
       "    }\n",
       "\n",
       "    .dataframe tbody tr th {\n",
       "        vertical-align: top;\n",
       "    }\n",
       "\n",
       "    .dataframe thead th {\n",
       "        text-align: right;\n",
       "    }\n",
       "</style>\n",
       "<table border=\"1\" class=\"dataframe\">\n",
       "  <thead>\n",
       "    <tr style=\"text-align: right;\">\n",
       "      <th></th>\n",
       "      <th>Datetime</th>\n",
       "      <th>District_Area</th>\n",
       "      <th>X_Coordinate</th>\n",
       "      <th>Y_Coordinate</th>\n",
       "      <th>Crime_Type</th>\n",
       "      <th>Year</th>\n",
       "    </tr>\n",
       "  </thead>\n",
       "  <tbody>\n",
       "    <tr>\n",
       "      <th>0</th>\n",
       "      <td>2018</td>\n",
       "      <td>Mount Pleasant</td>\n",
       "      <td>492617.2223</td>\n",
       "      <td>5455988.965</td>\n",
       "      <td>Theft of Bicycle</td>\n",
       "      <td>2018</td>\n",
       "    </tr>\n",
       "    <tr>\n",
       "      <th>1</th>\n",
       "      <td>2018</td>\n",
       "      <td>Kitsilano</td>\n",
       "      <td>488162.7192</td>\n",
       "      <td>5457693.429</td>\n",
       "      <td>Theft of Bicycle</td>\n",
       "      <td>2018</td>\n",
       "    </tr>\n",
       "    <tr>\n",
       "      <th>2</th>\n",
       "      <td>2018</td>\n",
       "      <td>Killarney</td>\n",
       "      <td>497063.7379</td>\n",
       "      <td>5450354.627</td>\n",
       "      <td>Theft of Bicycle</td>\n",
       "      <td>2018</td>\n",
       "    </tr>\n",
       "    <tr>\n",
       "      <th>3</th>\n",
       "      <td>2018</td>\n",
       "      <td>Central Business District</td>\n",
       "      <td>490768.8928</td>\n",
       "      <td>5458511.972</td>\n",
       "      <td>Break and Enter Commercial</td>\n",
       "      <td>2018</td>\n",
       "    </tr>\n",
       "    <tr>\n",
       "      <th>4</th>\n",
       "      <td>2018</td>\n",
       "      <td>Central Business District</td>\n",
       "      <td>492634.5444</td>\n",
       "      <td>5458638.968</td>\n",
       "      <td>Break and Enter Commercial</td>\n",
       "      <td>2018</td>\n",
       "    </tr>\n",
       "    <tr>\n",
       "      <th>...</th>\n",
       "      <td>...</td>\n",
       "      <td>...</td>\n",
       "      <td>...</td>\n",
       "      <td>...</td>\n",
       "      <td>...</td>\n",
       "      <td>...</td>\n",
       "    </tr>\n",
       "    <tr>\n",
       "      <th>255569</th>\n",
       "      <td>2024</td>\n",
       "      <td>Central Business District</td>\n",
       "      <td>490714.4899</td>\n",
       "      <td>5458386.259</td>\n",
       "      <td>Mischief</td>\n",
       "      <td>2024</td>\n",
       "    </tr>\n",
       "    <tr>\n",
       "      <th>255570</th>\n",
       "      <td>2024</td>\n",
       "      <td>Central Business District</td>\n",
       "      <td>490714.4899</td>\n",
       "      <td>5458386.259</td>\n",
       "      <td>Other Theft</td>\n",
       "      <td>2024</td>\n",
       "    </tr>\n",
       "    <tr>\n",
       "      <th>255571</th>\n",
       "      <td>2024</td>\n",
       "      <td>Kerrisdale</td>\n",
       "      <td>0.0000</td>\n",
       "      <td>0.000</td>\n",
       "      <td>Offence Against a Person</td>\n",
       "      <td>2024</td>\n",
       "    </tr>\n",
       "    <tr>\n",
       "      <th>255572</th>\n",
       "      <td>2024</td>\n",
       "      <td>Kerrisdale</td>\n",
       "      <td>0.0000</td>\n",
       "      <td>0.000</td>\n",
       "      <td>Offence Against a Person</td>\n",
       "      <td>2024</td>\n",
       "    </tr>\n",
       "    <tr>\n",
       "      <th>255573</th>\n",
       "      <td>2024</td>\n",
       "      <td>Central Business District</td>\n",
       "      <td>492073.2120</td>\n",
       "      <td>5458730.258</td>\n",
       "      <td>Mischief</td>\n",
       "      <td>2024</td>\n",
       "    </tr>\n",
       "  </tbody>\n",
       "</table>\n",
       "<p>255574 rows × 6 columns</p>\n",
       "</div>"
      ],
      "text/plain": [
       "        Datetime              District_Area  X_Coordinate  Y_Coordinate  \\\n",
       "0           2018             Mount Pleasant   492617.2223   5455988.965   \n",
       "1           2018                  Kitsilano   488162.7192   5457693.429   \n",
       "2           2018                  Killarney   497063.7379   5450354.627   \n",
       "3           2018  Central Business District   490768.8928   5458511.972   \n",
       "4           2018  Central Business District   492634.5444   5458638.968   \n",
       "...          ...                        ...           ...           ...   \n",
       "255569      2024  Central Business District   490714.4899   5458386.259   \n",
       "255570      2024  Central Business District   490714.4899   5458386.259   \n",
       "255571      2024                 Kerrisdale        0.0000         0.000   \n",
       "255572      2024                 Kerrisdale        0.0000         0.000   \n",
       "255573      2024  Central Business District   492073.2120   5458730.258   \n",
       "\n",
       "                        Crime_Type  Year  \n",
       "0                 Theft of Bicycle  2018  \n",
       "1                 Theft of Bicycle  2018  \n",
       "2                 Theft of Bicycle  2018  \n",
       "3       Break and Enter Commercial  2018  \n",
       "4       Break and Enter Commercial  2018  \n",
       "...                            ...   ...  \n",
       "255569                    Mischief  2024  \n",
       "255570                 Other Theft  2024  \n",
       "255571    Offence Against a Person  2024  \n",
       "255572    Offence Against a Person  2024  \n",
       "255573                    Mischief  2024  \n",
       "\n",
       "[255574 rows x 6 columns]"
      ]
     },
     "execution_count": 82,
     "metadata": {},
     "output_type": "execute_result"
    }
   ],
   "source": [
    "crime_data"
   ]
  },
  {
   "cell_type": "code",
   "execution_count": 95,
   "id": "353ca068",
   "metadata": {},
   "outputs": [],
   "source": [
    "#types of crimes through the years\n",
    "#nested bar plot for the type of crimes through the years\n",
    "#1. types of crime across the years\n",
    "types_of_crime= crime_data.groupby(['Crime_Type','Year']).size()"
   ]
  },
  {
   "cell_type": "code",
   "execution_count": 96,
   "id": "d584a5b2",
   "metadata": {},
   "outputs": [
    {
     "data": {
      "text/plain": [
       "Crime_Type                                            Year\n",
       "Break and Enter Commercial                            2018    2020\n",
       "                                                      2019    2490\n",
       "                                                      2020    2788\n",
       "                                                      2021    2078\n",
       "                                                      2022    1986\n",
       "                                                              ... \n",
       "Vehicle Collision or Pedestrian Struck (with Injury)  2020     845\n",
       "                                                      2021    1012\n",
       "                                                      2022    1008\n",
       "                                                      2023    1144\n",
       "                                                      2024     696\n",
       "Length: 77, dtype: int64"
      ]
     },
     "execution_count": 96,
     "metadata": {},
     "output_type": "execute_result"
    }
   ],
   "source": [
    "types_of_crime\n"
   ]
  },
  {
   "cell_type": "code",
   "execution_count": 109,
   "id": "30253fd4",
   "metadata": {},
   "outputs": [
    {
     "data": {
      "text/html": [
       "<div>\n",
       "<style scoped>\n",
       "    .dataframe tbody tr th:only-of-type {\n",
       "        vertical-align: middle;\n",
       "    }\n",
       "\n",
       "    .dataframe tbody tr th {\n",
       "        vertical-align: top;\n",
       "    }\n",
       "\n",
       "    .dataframe thead th {\n",
       "        text-align: right;\n",
       "    }\n",
       "</style>\n",
       "<table border=\"1\" class=\"dataframe\">\n",
       "  <thead>\n",
       "    <tr style=\"text-align: right;\">\n",
       "      <th></th>\n",
       "      <th>Datetime</th>\n",
       "      <th>District_Area</th>\n",
       "      <th>X_Coordinate</th>\n",
       "      <th>Y_Coordinate</th>\n",
       "      <th>Crime_Type</th>\n",
       "      <th>Year</th>\n",
       "    </tr>\n",
       "  </thead>\n",
       "  <tbody>\n",
       "    <tr>\n",
       "      <th>0</th>\n",
       "      <td>2018</td>\n",
       "      <td>Mount Pleasant</td>\n",
       "      <td>492617.2223</td>\n",
       "      <td>5455988.965</td>\n",
       "      <td>Theft of Bicycle</td>\n",
       "      <td>2018</td>\n",
       "    </tr>\n",
       "    <tr>\n",
       "      <th>1</th>\n",
       "      <td>2018</td>\n",
       "      <td>Kitsilano</td>\n",
       "      <td>488162.7192</td>\n",
       "      <td>5457693.429</td>\n",
       "      <td>Theft of Bicycle</td>\n",
       "      <td>2018</td>\n",
       "    </tr>\n",
       "    <tr>\n",
       "      <th>2</th>\n",
       "      <td>2018</td>\n",
       "      <td>Killarney</td>\n",
       "      <td>497063.7379</td>\n",
       "      <td>5450354.627</td>\n",
       "      <td>Theft of Bicycle</td>\n",
       "      <td>2018</td>\n",
       "    </tr>\n",
       "    <tr>\n",
       "      <th>3</th>\n",
       "      <td>2018</td>\n",
       "      <td>Central Business District</td>\n",
       "      <td>490768.8928</td>\n",
       "      <td>5458511.972</td>\n",
       "      <td>Break and Enter Commercial</td>\n",
       "      <td>2018</td>\n",
       "    </tr>\n",
       "    <tr>\n",
       "      <th>4</th>\n",
       "      <td>2018</td>\n",
       "      <td>Central Business District</td>\n",
       "      <td>492634.5444</td>\n",
       "      <td>5458638.968</td>\n",
       "      <td>Break and Enter Commercial</td>\n",
       "      <td>2018</td>\n",
       "    </tr>\n",
       "    <tr>\n",
       "      <th>...</th>\n",
       "      <td>...</td>\n",
       "      <td>...</td>\n",
       "      <td>...</td>\n",
       "      <td>...</td>\n",
       "      <td>...</td>\n",
       "      <td>...</td>\n",
       "    </tr>\n",
       "    <tr>\n",
       "      <th>255569</th>\n",
       "      <td>2024</td>\n",
       "      <td>Central Business District</td>\n",
       "      <td>490714.4899</td>\n",
       "      <td>5458386.259</td>\n",
       "      <td>Mischief</td>\n",
       "      <td>2024</td>\n",
       "    </tr>\n",
       "    <tr>\n",
       "      <th>255570</th>\n",
       "      <td>2024</td>\n",
       "      <td>Central Business District</td>\n",
       "      <td>490714.4899</td>\n",
       "      <td>5458386.259</td>\n",
       "      <td>Other Theft</td>\n",
       "      <td>2024</td>\n",
       "    </tr>\n",
       "    <tr>\n",
       "      <th>255571</th>\n",
       "      <td>2024</td>\n",
       "      <td>Kerrisdale</td>\n",
       "      <td>0.0000</td>\n",
       "      <td>0.000</td>\n",
       "      <td>Offence Against a Person</td>\n",
       "      <td>2024</td>\n",
       "    </tr>\n",
       "    <tr>\n",
       "      <th>255572</th>\n",
       "      <td>2024</td>\n",
       "      <td>Kerrisdale</td>\n",
       "      <td>0.0000</td>\n",
       "      <td>0.000</td>\n",
       "      <td>Offence Against a Person</td>\n",
       "      <td>2024</td>\n",
       "    </tr>\n",
       "    <tr>\n",
       "      <th>255573</th>\n",
       "      <td>2024</td>\n",
       "      <td>Central Business District</td>\n",
       "      <td>492073.2120</td>\n",
       "      <td>5458730.258</td>\n",
       "      <td>Mischief</td>\n",
       "      <td>2024</td>\n",
       "    </tr>\n",
       "  </tbody>\n",
       "</table>\n",
       "<p>255574 rows × 6 columns</p>\n",
       "</div>"
      ],
      "text/plain": [
       "        Datetime              District_Area  X_Coordinate  Y_Coordinate  \\\n",
       "0           2018             Mount Pleasant   492617.2223   5455988.965   \n",
       "1           2018                  Kitsilano   488162.7192   5457693.429   \n",
       "2           2018                  Killarney   497063.7379   5450354.627   \n",
       "3           2018  Central Business District   490768.8928   5458511.972   \n",
       "4           2018  Central Business District   492634.5444   5458638.968   \n",
       "...          ...                        ...           ...           ...   \n",
       "255569      2024  Central Business District   490714.4899   5458386.259   \n",
       "255570      2024  Central Business District   490714.4899   5458386.259   \n",
       "255571      2024                 Kerrisdale        0.0000         0.000   \n",
       "255572      2024                 Kerrisdale        0.0000         0.000   \n",
       "255573      2024  Central Business District   492073.2120   5458730.258   \n",
       "\n",
       "                        Crime_Type  Year  \n",
       "0                 Theft of Bicycle  2018  \n",
       "1                 Theft of Bicycle  2018  \n",
       "2                 Theft of Bicycle  2018  \n",
       "3       Break and Enter Commercial  2018  \n",
       "4       Break and Enter Commercial  2018  \n",
       "...                            ...   ...  \n",
       "255569                    Mischief  2024  \n",
       "255570                 Other Theft  2024  \n",
       "255571    Offence Against a Person  2024  \n",
       "255572    Offence Against a Person  2024  \n",
       "255573                    Mischief  2024  \n",
       "\n",
       "[255574 rows x 6 columns]"
      ]
     },
     "execution_count": 109,
     "metadata": {},
     "output_type": "execute_result"
    }
   ],
   "source": []
  },
  {
   "cell_type": "code",
   "execution_count": null,
   "id": "da5b669d",
   "metadata": {},
   "outputs": [],
   "source": []
  }
 ],
 "metadata": {
  "kernelspec": {
   "display_name": "Python 3 (ipykernel)",
   "language": "python",
   "name": "python3"
  },
  "language_info": {
   "codemirror_mode": {
    "name": "ipython",
    "version": 3
   },
   "file_extension": ".py",
   "mimetype": "text/x-python",
   "name": "python",
   "nbconvert_exporter": "python",
   "pygments_lexer": "ipython3",
   "version": "3.8.5"
  }
 },
 "nbformat": 4,
 "nbformat_minor": 5
}
