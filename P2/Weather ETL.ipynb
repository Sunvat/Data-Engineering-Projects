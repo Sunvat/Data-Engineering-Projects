{
 "cells": [
  {
   "cell_type": "code",
   "execution_count": 13,
   "id": "a2dc56f0",
   "metadata": {},
   "outputs": [
    {
     "name": "stdout",
     "output_type": "stream",
     "text": [
      "{'coord': {'lon': -123.1193, 'lat': 49.2497}, 'weather': [{'id': 804, 'main': 'Clouds', 'description': 'overcast clouds', 'icon': '04n'}], 'base': 'stations', 'main': {'temp': 14.49, 'feels_like': 13.9, 'temp_min': 13.75, 'temp_max': 15.14, 'pressure': 1021, 'humidity': 73, 'sea_level': 1021, 'grnd_level': 1013}, 'visibility': 10000, 'wind': {'speed': 2.24, 'deg': 230}, 'clouds': {'all': 90}, 'dt': 1727489535, 'sys': {'type': 2, 'id': 2011597, 'country': 'CA', 'sunrise': 1727446025, 'sunset': 1727488760}, 'timezone': -25200, 'id': 6173331, 'name': 'Vancouver', 'cod': 200}\n",
      "        city  temperature  humidity  wind_speed weather_description  \\\n",
      "0  Vancouver        14.49        73        2.24     overcast clouds   \n",
      "\n",
      "                   timestamp  \n",
      "0 2024-09-28 02:14:53.146916  \n",
      "Data successfully added\n"
     ]
    },
    {
     "data": {
      "image/png": "[encoded data removed]",
      "text/plain": [
       "<Figure size 432x288 with 1 Axes>"
      ]
     },
     "metadata": {
      "needs_background": "light"
     },
     "output_type": "display_data"
    }
   ],
   "source": [
    "import requests\n",
    "import pandas as pd\n",
    "import sqlite3\n",
    "import matplotlib.pyplot as plt\n",
    "#using OpenWeather API endpoint\n",
    "\n",
    "api_key = '3945824cad5f4216de902f1e00105996'\n",
    "#city can be changed accordingly\n",
    "city = 'Vancouver'\n",
    "url = f'http://api.openweathermap.org/data/2.5/weather?q={city}&APPID={api_key}&units=metric'\n",
    "\n",
    "#make a request and store it as json\n",
    "\n",
    "response = requests.get(url)\n",
    "\n",
    "#check if the request was successful\n",
    "\n",
    "if response.status_code == 200:\n",
    "    data = response.json()#converting api respont to json format\n",
    "    print(data)#printing for reference\n",
    "else:\n",
    "    print('Error')\n",
    "\n",
    "#extracting relevant information from JSON\n",
    "\n",
    "weather_data = {'city': data['name'],\n",
    "               'temperature': data['main']['temp'],\n",
    "               'humidity': data['main']['humidity'],\n",
    "               'wind_speed': data['wind']['speed'],\n",
    "               'weather_description': data['weather'][0]['description'],\n",
    "               'timestamp': pd.to_datetime('now')}\n",
    "\n",
    "#converting to data frame\n",
    "\n",
    "df = pd.DataFrame([weather_data])\n",
    "\n",
    "print(df)\n",
    "\n",
    "\n",
    "# making an sqlite3 database/ creating one if dosent exist \n",
    "\n",
    "conn = sqlite3.connect('weather_data.db')\n",
    "\n",
    "#storing data\n",
    "df.to_sql('weather_data',conn,if_exists='append',index=False)\n",
    "\n",
    "print(\"Data successfully added\")\n",
    "\n",
    "\n",
    "#visualising data\n",
    "#reading data from weather database\n",
    "df = pd.read_sql('SELECT * FROM weather_data', conn)\n",
    "\n",
    "#ploting graph\n",
    "df.set_index('timestamp')['temperature'].plot()\n",
    "plt.title(f'Temperature Trend in the {city}')\n",
    "plt.ylabel('Temperature (°C)')\n",
    "plt.xlabel('Timestamp')\n",
    "plt.show()  \n"
   ]
  },
  {
   "cell_type": "code",
   "execution_count": null,
   "id": "b1a5e106",
   "metadata": {},
   "outputs": [],
   "source": []
  }
 ],
 "metadata": {
  "kernelspec": {
   "display_name": "Python 3 (ipykernel)",
   "language": "python",
   "name": "python3"
  },
  "language_info": {
   "codemirror_mode": {
    "name": "ipython",
    "version": 3
   },
   "file_extension": ".py",
   "mimetype": "text/x-python",
   "name": "python",
   "nbconvert_exporter": "python",
   "pygments_lexer": "ipython3",
   "version": "3.8.5"
  }
 },
 "nbformat": 4,
 "nbformat_minor": 5
}
